{
 "cells": [
  {
   "cell_type": "markdown",
   "id": "bb70a35f-c1a6-4a9b-af87-aa2f1c934c90",
   "metadata": {},
   "source": [
    "**Lista de Exercícios Aritmética**"
   ]
  },
  {
   "cell_type": "code",
   "execution_count": 8,
   "id": "37d05a8e-66d6-403a-a6a5-47713b8da11a",
   "metadata": {},
   "outputs": [
    {
     "name": "stdin",
     "output_type": "stream",
     "text": [
      "Insira a primeira nota: 5\n",
      "Insira a segunda nota: 5\n",
      "Insira a terceira nota: 7\n",
      "Insira a quarta nota: 8\n",
      "Insira a quinta nota: 9\n"
     ]
    },
    {
     "name": "stdout",
     "output_type": "stream",
     "text": [
      "A média do aluno é: 6.8\n"
     ]
    }
   ],
   "source": [
    "# 1- Faça um programa que receba 5 notas, calcule a média aritmética destas notas e apresente o resultado.\n",
    "n1 = float(input('Insira a primeira nota:'))\n",
    "n2 = float(input('Insira a segunda nota:'))\n",
    "n3 = float(input('Insira a terceira nota:'))\n",
    "n4 = float(input('Insira a quarta nota:'))\n",
    "n5 = float(input('Insira a quinta nota:'))\n",
    "media = (n1+n2+n3+n4+n5) /5\n",
    "print(f'A média do aluno é: {media}')"
   ]
  },
  {
   "cell_type": "code",
   "execution_count": 6,
   "id": "aa215e6d-9117-40dd-a30a-769d349b3e64",
   "metadata": {},
   "outputs": [
    {
     "name": "stdin",
     "output_type": "stream",
     "text": [
      "Insira um valor em real:  30\n"
     ]
    },
    {
     "name": "stdout",
     "output_type": "stream",
     "text": [
      "O valor de R$30.00 equivale a $5.25 USD\n"
     ]
    }
   ],
   "source": [
    "## 2- Faça um programa que converta a moeda REAL em DÓLAR\n",
    "\n",
    "valor_real = float(input('Insira um valor em real: '))\n",
    "valor_dolar = 0.1751\n",
    "\n",
    "resultado_conversao = valor_real * valor_dolar\n",
    "\n",
    "print(f'O valor de R${valor_real:,.2f} equivale a ${resultado_conversao:,.2f} USD')"
   ]
  },
  {
   "cell_type": "code",
   "execution_count": 9,
   "id": "406af23e-e560-4cb6-ba97-2021ff608e67",
   "metadata": {},
   "outputs": [
    {
     "name": "stdin",
     "output_type": "stream",
     "text": [
      "Insira o salário atual do funcionário: 1500\n"
     ]
    },
    {
     "name": "stdout",
     "output_type": "stream",
     "text": [
      "O salário do funcionário com aumento de 25% é: R$ 1,875.00\n"
     ]
    }
   ],
   "source": [
    "## 3- Faça um programa que receba o salário de um funcionário, calcule e mostre o novo\n",
    "## salário, sabendo-se que este sofreu um aumento de 25%.\n",
    "\n",
    "salario_atual = float(input('Insira o salário atual do funcionário:'))\n",
    "\n",
    "aumento_porcentagem = 0.25\n",
    "\n",
    "aumento_salarial = salario_atual * aumento_porcentagem\n",
    "salario_novo = salario_atual + aumento_salarial\n",
    "\n",
    "print(f'O salário do funcionário com aumento de 25% é: R$ {salario_novo:,.2f}')"
   ]
  },
  {
   "cell_type": "code",
   "execution_count": 10,
   "id": "aa380620-f388-4a5d-8aaf-c6dad42fa9ea",
   "metadata": {},
   "outputs": [
    {
     "name": "stdin",
     "output_type": "stream",
     "text": [
      "Insira um número em Pés:  10\n"
     ]
    },
    {
     "name": "stdout",
     "output_type": "stream",
     "text": [
      "Polegadas: 52800.0\n",
      "Jardas: 3.3333333333333335\n",
      "Milhas: 52800.0\n"
     ]
    }
   ],
   "source": [
    "## 5- Faça um programa que recebe um número em Pés, faça as conversões a seguir e mostre os resultados.\n",
    "## Polegadas; Jardas; Milhas;\n",
    "\n",
    "numero_pes = float(input('Insira um número em Pés: '))\n",
    "\n",
    "numero_polegadas = numero_pes * 12\n",
    "numero_jarda = numero_pes / 3\n",
    "numero_milha = numero_pes * 5280\n",
    "\n",
    "print(f'Polegadas: {numero_milha}')\n",
    "print(f'Jardas: {numero_jarda}')\n",
    "print(f'Milhas: {numero_milha}')"
   ]
  },
  {
   "cell_type": "markdown",
   "id": "64ef782c-3ced-4dac-ac8f-5c590ee9dd16",
   "metadata": {},
   "source": [
    "**Lista de Exercícios Condicional**"
   ]
  },
  {
   "cell_type": "code",
   "execution_count": 13,
   "id": "be393e9f-507e-4951-8ede-ad670aaad0fa",
   "metadata": {},
   "outputs": [
    {
     "name": "stdin",
     "output_type": "stream",
     "text": [
      "Digite o salário do funcionário: R$  1500\n"
     ]
    },
    {
     "name": "stdout",
     "output_type": "stream",
     "text": [
      "O novo salário do funcionário é: R$ 1725.00\n"
     ]
    }
   ],
   "source": [
    "## 6- Faça um programa que receba o salário de um funcionário, calcule e mostre o novo salário, sabendo-se que:\n",
    "## Salário < R$ 1000,00 aumento de 25%.\n",
    "## Salário >= 1000,00 e < R$ 2000,00 aumento de 15%.\n",
    "## Salário >= R$ 2000,00 aumento de 10%.\n",
    "\n",
    "salario = float(input(\"Digite o salário do funcionário: R$ \"))\n",
    "\n",
    "if salario < 1000:\n",
    "    aumento = salario * 0.25  # Aumento de 25%\n",
    "elif salario >= 1000 and salario < 2000:\n",
    "    aumento = salario * 0.15  # Aumento de 15%\n",
    "else:\n",
    "    aumento = salario * 0.10  # Aumento de 10%\n",
    "\n",
    "novo_salario = salario + aumento\n",
    "\n",
    "print(f\"O novo salário do funcionário é: R$ {novo_salario:.2f}\")\n"
   ]
  },
  {
   "cell_type": "code",
   "execution_count": 14,
   "id": "5fdeb09a-0e1f-40ca-a082-3ad9ea73c08f",
   "metadata": {},
   "outputs": [
    {
     "name": "stdin",
     "output_type": "stream",
     "text": [
      "Digite o número do mês (1 a 12):  05\n"
     ]
    },
    {
     "name": "stdout",
     "output_type": "stream",
     "text": [
      "O mês é Maio.\n"
     ]
    }
   ],
   "source": [
    "## 7- Faça um programa que receba o mês em número e apresente-o por extenso.\n",
    "\n",
    "mes_numero = int(input(\"Digite o número do mês (1 a 12): \"))\n",
    "\n",
    "meses = [\"Janeiro\", \"Fevereiro\", \"Março\", \"Abril\", \"Maio\", \"Junho\", \"Julho\", \"Agosto\", \"Setembro\", \"Outubro\", \"Novembro\", \"Dezembro\"]\n",
    "\n",
    "if 1 <= mes_numero <= 12:\n",
    "    print(f\"O mês é {meses[mes_numero - 1]}.\")\n",
    "else:\n",
    "    print(\"Número de mês inválido! Digite um número entre 1 e 12.\")"
   ]
  },
  {
   "cell_type": "code",
   "execution_count": 24,
   "id": "73daa157-286d-4959-a7eb-81be142017d0",
   "metadata": {},
   "outputs": [
    {
     "name": "stdin",
     "output_type": "stream",
     "text": [
      "Insira uma idade:  18\n"
     ]
    },
    {
     "name": "stdout",
     "output_type": "stream",
     "text": [
      "É um adulto\n"
     ]
    }
   ],
   "source": [
    "## 8- Escreva um programa que leia a idade de um indivíduo e escreva a faixa etária a que pertence.\n",
    "\n",
    "idade = int(input('Insira uma idade: '))\n",
    "\n",
    "if idade <= 12:\n",
    "    print('É uma criança')\n",
    "elif idade >= 13 and idade <= 17:\n",
    "    print('É um adolescente ')\n",
    "elif idade >= 18 and idade <= 59:\n",
    "    print('É um adulto')\n",
    "elif idade >= 60:\n",
    "    print('É um idoso')"
   ]
  },
  {
   "cell_type": "code",
   "execution_count": 25,
   "id": "78d7704a-56c0-4fb2-b0c9-b0b4b54b8b37",
   "metadata": {},
   "outputs": [
    {
     "name": "stdin",
     "output_type": "stream",
     "text": [
      "Digite um número de 1 a 5 para escolher uma profissão:  4\n"
     ]
    },
    {
     "name": "stdout",
     "output_type": "stream",
     "text": [
      "A profissão escolhida é: Arquiteto\n"
     ]
    }
   ],
   "source": [
    "## 9- Faça um programa para exibir a ocupação de um funcionário a partir de seu código de profissão\n",
    "\n",
    "profissoes = ['Matemático', 'Analista de Sistemas', 'Físico', 'Arquiteto', 'Piloto de Aeronaves']\n",
    "\n",
    "numero = int(input(\"Digite um número de 1 a 5 para escolher uma profissão: \"))\n",
    "\n",
    "if 1 <= numero <= 5:\n",
    "    print(f\"A profissão escolhida é: {profissoes[numero - 1]}\")\n",
    "else:\n",
    " print(\"Número inválido! Por favor, escolha um número de 1 a 5.\")"
   ]
  },
  {
   "cell_type": "code",
   "execution_count": 26,
   "id": "653819f0-de32-4d89-b817-2760ea9feca9",
   "metadata": {},
   "outputs": [],
   "source": [
    "##10. Escreva um programa que leia a velocidade máxima permitida em uma avenida e velocidade com que o motorista\n",
    "## estava dirigindo nela e calcule a multa que uma pessoa vai receber\n"
   ]
  },
  {
   "cell_type": "code",
   "execution_count": null,
   "id": "7489e8da-44f8-42d3-ac5b-3b260a6ed93e",
   "metadata": {},
   "outputs": [],
   "source": []
  }
 ],
 "metadata": {
  "kernelspec": {
   "display_name": "Python 3 (ipykernel)",
   "language": "python",
   "name": "python3"
  },
  "language_info": {
   "codemirror_mode": {
    "name": "ipython",
    "version": 3
   },
   "file_extension": ".py",
   "mimetype": "text/x-python",
   "name": "python",
   "nbconvert_exporter": "python",
   "pygments_lexer": "ipython3",
   "version": "3.12.7"
  }
 },
 "nbformat": 4,
 "nbformat_minor": 5
}
