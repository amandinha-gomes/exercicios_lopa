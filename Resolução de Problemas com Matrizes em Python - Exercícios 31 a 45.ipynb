{
 "cells": [
  {
   "cell_type": "markdown",
   "id": "c09672c7-5471-4a0f-9f3c-cd6c38691ee7",
   "metadata": {},
   "source": [
    "**Lista de Exercícios de Matrizes**"
   ]
  },
  {
   "cell_type": "code",
   "execution_count": null,
   "id": "ec0c7e5b-2dfc-4e48-82e4-0031a476c3d5",
   "metadata": {},
   "outputs": [
    {
     "name": "stdout",
     "output_type": "stream",
     "text": [
      "Digite os 5 elementos da linha 1 da matriz (separados por espaço):  0 0 0 0 0\n",
      "Digite os 5 elementos da linha 2 da matriz (separados por espaço):   0 0 0 0 0\n",
      "Digite os 5 elementos da linha 3 da matriz (separados por espaço):   0 0 0 0 0\n",
      "Digite os 5 elementos da linha 4 da matriz (separados por espaço):   0 0 0 0 0\n",
      "Digite os 5 elementos da linha 5 da matriz (separados por espaço):   0 0 0 0 0\n"
     ]
    },
    {
     "name": "stdout",
     "output_type": "stream",
     "text": [
      "Soma da linha 3: 0\n",
      "Soma da coluna 2: 0\n",
      "Soma da diagonal principal: 0\n",
      "Soma da diagonal secundária: 0\n",
      "Soma de todos os elementos da matriz: 0\n"
     ]
    }
   ],
   "source": [
    "# 31. Ler uma matriz M 5 x 5, calcular e escrever as seguintes somas:\n",
    "# a) da linha 3 de M\n",
    "# b) da coluna 2 de M\n",
    "# c) da diagonal principal\n",
    "# d) da diagonal secundária\n",
    "# e) de todos os elementos da matriz\n",
    "\n",
    "M = []\n",
    "for i in range(5):\n",
    "    while True:\n",
    "        linha = list(map(int, input(f\"Digite os 5 elementos da linha {i+1} da matriz (separados por espaço): \").split()))\n",
    "        if len(linha) == 5:\n",
    "            M.append(linha)\n",
    "            break\n",
    "        else:\n",
    "            print(\"Erro! Por favor, insira exatamente 5 elementos.\")\n",
    "\n",
    "soma_linha_3 = sum(M[2])\n",
    "\n",
    "soma_coluna_2 = sum(M[i][1] for i in range(5))\n",
    "\n",
    "soma_diagonal_principal = sum(M[i][i] for i in range(5))\n",
    "\n",
    "soma_diagonal_secundaria = sum(M[i][4-i] for i in range(5))\n",
    "\n",
    "soma_total = sum(sum(linha) for linha in M)\n",
    "\n",
    "print(f\"Soma da linha 3: {soma_linha_3}\")\n",
    "print(f\"Soma da coluna 2: {soma_coluna_2}\")\n",
    "print(f\"Soma da diagonal principal: {soma_diagonal_principal}\")\n",
    "print(f\"Soma da diagonal secundária: {soma_diagonal_secundaria}\")\n",
    "print(f\"Soma de todos os elementos da matriz: {soma_total}\")"
   ]
  },
  {
   "cell_type": "code",
   "execution_count": null,
   "id": "e65b1e8e-e7a8-4b59-82c3-14f7370691ef",
   "metadata": {},
   "outputs": [
    {
     "name": "stdout",
     "output_type": "stream",
     "text": [
      "Digite os elementos da matriz A (4x6):\n"
     ]
    },
    {
     "name": "stdout",
     "output_type": "stream",
     "text": [
      "Digite os 6 elementos da linha 1 de A (separados por espaço):   0 0 0 0 0\n"
     ]
    },
    {
     "name": "stdout",
     "output_type": "stream",
     "text": [
      "Erro! Por favor, insira exatamente 6 elementos.\n"
     ]
    },
    {
     "name": "stdout",
     "output_type": "stream",
     "text": [
      "Digite os 6 elementos da linha 1 de A (separados por espaço):  0 0 0 0 0 0\n",
      "Digite os 6 elementos da linha 2 de A (separados por espaço):  0 0 0 0 0 0\n",
      "Digite os 6 elementos da linha 3 de A (separados por espaço):  0 0 0 0 0 0\n",
      "Digite os 6 elementos da linha 4 de A (separados por espaço):  \n"
     ]
    },
    {
     "name": "stdout",
     "output_type": "stream",
     "text": [
      "Erro! Por favor, insira exatamente 6 elementos.\n"
     ]
    },
    {
     "name": "stdout",
     "output_type": "stream",
     "text": [
      "Digite os 6 elementos da linha 4 de A (separados por espaço):  0 0 0 0 0 0\n"
     ]
    },
    {
     "name": "stdout",
     "output_type": "stream",
     "text": [
      "Digite os elementos da matriz B (4x6):\n"
     ]
    },
    {
     "name": "stdout",
     "output_type": "stream",
     "text": [
      "Digite os 6 elementos da linha 1 de B (separados por espaço):  0 0 0 0 0 0\n",
      "Digite os 6 elementos da linha 2 de B (separados por espaço):  0 0 0 0 0 0\n",
      "Digite os 6 elementos da linha 3 de B (separados por espaço):  0 0 0 0 0 0\n",
      "Digite os 6 elementos da linha 4 de B (separados por espaço):  0 0 0 0 0 0\n"
     ]
    },
    {
     "name": "stdout",
     "output_type": "stream",
     "text": [
      "\n",
      "Matriz S (A + B):\n",
      "[0, 0, 0, 0, 0, 0]\n",
      "[0, 0, 0, 0, 0, 0]\n",
      "[0, 0, 0, 0, 0, 0]\n",
      "[0, 0, 0, 0, 0, 0]\n",
      "\n",
      "Matriz D (A - B):\n",
      "[0, 0, 0, 0, 0, 0]\n",
      "[0, 0, 0, 0, 0, 0]\n",
      "[0, 0, 0, 0, 0, 0]\n",
      "[0, 0, 0, 0, 0, 0]\n"
     ]
    }
   ],
   "source": [
    "# 32. Ler 2 matrizes, A 4 x 6 e B 4 x 6 e criar:\n",
    "# a) uma matriz S que seja a soma de A e B.\n",
    "# b) uma matriz D que seja a diferença de A e B. (A – B).\n",
    "# Escrever as matrizes S e D após todo cálculo estar concluído.\n",
    "\n",
    "A = []\n",
    "print(\"Digite os elementos da matriz A (4x6):\")\n",
    "for i in range(4):\n",
    "    while True:\n",
    "        linha = list(map(int, input(f\"Digite os 6 elementos da linha {i+1} de A (separados por espaço): \").split()))\n",
    "        if len(linha) == 6:\n",
    "            A.append(linha)\n",
    "            break\n",
    "        else:\n",
    "            print(\"Erro! Por favor, insira exatamente 6 elementos.\")\n",
    "\n",
    "B = []\n",
    "print(\"Digite os elementos da matriz B (4x6):\")\n",
    "for i in range(4):\n",
    "    while True:\n",
    "        linha = list(map(int, input(f\"Digite os 6 elementos da linha {i+1} de B (separados por espaço): \").split()))\n",
    "        if len(linha) == 6:\n",
    "            B.append(linha)\n",
    "            break\n",
    "        else:\n",
    "            print(\"Erro! Por favor, insira exatamente 6 elementos.\")\n",
    "\n",
    "# a) Matriz S = A + B\n",
    "S = [[A[i][j] + B[i][j] for j in range(6)] for i in range(4)]\n",
    "\n",
    "# b) Matriz D = A - B\n",
    "D = [[A[i][j] - B[i][j] for j in range(6)] for i in range(4)]\n",
    "\n",
    "# Exibir as matrizes S e D\n",
    "print(\"\\nMatriz S (A + B):\")\n",
    "for linha in S:\n",
    "    print(linha)\n",
    "\n",
    "print(\"\\nMatriz D (A - B):\")\n",
    "for linha in D:\n",
    "    print(linha)"
   ]
  },
  {
   "cell_type": "code",
   "execution_count": null,
   "id": "fe214840-dc28-426c-805f-6b8f034f820b",
   "metadata": {},
   "outputs": [
    {
     "name": "stdout",
     "output_type": "stream",
     "text": [
      "Digite os elementos da matriz A (4x4):\n"
     ]
    },
    {
     "name": "stdout",
     "output_type": "stream",
     "text": [
      "Digite os 4 elementos da linha 1 de A (separados por espaço):  2\n"
     ]
    },
    {
     "name": "stdout",
     "output_type": "stream",
     "text": [
      "Erro! Por favor, insira exatamente 4 elementos.\n"
     ]
    },
    {
     "name": "stdout",
     "output_type": "stream",
     "text": [
      "Digite os 4 elementos da linha 1 de A (separados por espaço):  2 3 4 5\n",
      "Digite os 4 elementos da linha 2 de A (separados por espaço):  1 2 3 4 \n",
      "Digite os 4 elementos da linha 3 de A (separados por espaço):  5 6 7 8\n",
      "Digite os 4 elementos da linha 4 de A (separados por espaço):  1 1 1 1\n"
     ]
    },
    {
     "name": "stdout",
     "output_type": "stream",
     "text": [
      "Soma dos elementos marcados com 'X': 27\n"
     ]
    }
   ],
   "source": [
    "# 33. Ler uma matriz A de 4 x 4, calcular e escrever as somas dos elementos marcados com o\n",
    "# X. Utilizar estruturas de repetição.\n",
    "\n",
    "A = []\n",
    "print(\"Digite os elementos da matriz A (4x4):\")\n",
    "for i in range(4):\n",
    "    while True:\n",
    "        linha = list(map(int, input(f\"Digite os 4 elementos da linha {i+1} de A (separados por espaço): \").split()))\n",
    "        if len(linha) == 4:\n",
    "            A.append(linha)\n",
    "            break\n",
    "        else:\n",
    "            print(\"Erro! Por favor, insira exatamente 4 elementos.\")\n",
    "\n",
    "soma_diagonais = 0\n",
    "\n",
    "# Calcular a soma dos elementos das diagonais\n",
    "for i in range(4):\n",
    "    # Soma da diagonal principal (A[i][i])\n",
    "    soma_diagonais += A[i][i]\n",
    "    # Soma da diagonal secundária (A[i][3-i])\n",
    "    soma_diagonais += A[i][3-i]\n",
    "\n",
    "print(f\"Soma dos elementos marcados com 'X': {soma_diagonais}\")"
   ]
  },
  {
   "cell_type": "code",
   "execution_count": 15,
   "id": "7cb15635-0aa1-4953-a004-9b4494c4c6a3",
   "metadata": {},
   "outputs": [
    {
     "name": "stdout",
     "output_type": "stream",
     "text": [
      "Digite os elementos da matriz D (5x5):\n"
     ]
    },
    {
     "name": "stdout",
     "output_type": "stream",
     "text": [
      "Digite os 5 elementos da linha 1 de D (separados por espaço):  1 2 3 4 5\n",
      "Digite os 5 elementos da linha 2 de D (separados por espaço):  1 2 3 4 5\n",
      "Digite os 5 elementos da linha 3 de D (separados por espaço):  1 2 3 4 5\n",
      "Digite os 5 elementos da linha 4 de D (separados por espaço):  1 2 3 4 5\n",
      "Digite os 5 elementos da linha 5 de D (separados por espaço):  1 2 3 4 5\n",
      "Digite o número X para verificar se existe na matriz:  4\n"
     ]
    },
    {
     "name": "stdout",
     "output_type": "stream",
     "text": [
      "O número 4 existe na matriz.\n"
     ]
    }
   ],
   "source": [
    "# 34. Ler uma matriz D 5 x 5. A seguir ler um número X e escreva uma mensagem indicando se o valor de X existe ou NÃO na matriz.\n",
    "\n",
    "D = []\n",
    "print(\"Digite os elementos da matriz D (5x5):\")\n",
    "for i in range(5):\n",
    "    while True:\n",
    "        linha = list(map(int, input(f\"Digite os 5 elementos da linha {i+1} de D (separados por espaço): \").split()))\n",
    "        if len(linha) == 5:\n",
    "            D.append(linha)\n",
    "            break\n",
    "        else:\n",
    "            print(\"Erro! Por favor, insira exatamente 5 elementos.\")\n",
    "\n",
    "X = int(input(\"Digite o número X para verificar se existe na matriz: \"))\n",
    "\n",
    "encontrado = False\n",
    "for i in range(5):\n",
    "    for j in range(5):\n",
    "        if D[i][j] == X:\n",
    "            encontrado = True\n",
    "            break\n",
    "    if encontrado:\n",
    "        break\n",
    "\n",
    "if encontrado:\n",
    "    print(f\"O número {X} existe na matriz.\")\n",
    "else:\n",
    "    print(f\"O número {X} NÃO existe na matriz.\")"
   ]
  },
  {
   "cell_type": "code",
   "execution_count": 16,
   "id": "b17070e0-421d-4a08-937b-184c395b736b",
   "metadata": {},
   "outputs": [
    {
     "name": "stdout",
     "output_type": "stream",
     "text": [
      "Digite os elementos da matriz G (5x5):\n"
     ]
    },
    {
     "name": "stdout",
     "output_type": "stream",
     "text": [
      "Digite os 5 elementos da linha 1 de G (separados por espaço):  1 2 3 4 5\n",
      "Digite os 5 elementos da linha 2 de G (separados por espaço):  1 2 3 4 5\n",
      "Digite os 5 elementos da linha 3 de G (separados por espaço):  1 2 3 4 5\n",
      "Digite os 5 elementos da linha 4 de G (separados por espaço):  1 2 3 4 5\n",
      "Digite os 5 elementos da linha 5 de G (separados por espaço):  1 2 3 4 5\n"
     ]
    },
    {
     "name": "stdout",
     "output_type": "stream",
     "text": [
      "Vetor SL (soma das linhas): [15, 15, 15, 15, 15]\n",
      "Vetor SC (soma das colunas): [5, 10, 15, 20, 25]\n"
     ]
    }
   ],
   "source": [
    "# 35. Ler uma matriz G 5 x 5 e criar 2 vetores SL e SC de 5 elementos que contenham respectivamente as somas das linhas e das colunas de G.\n",
    "#Escrever os vetores criados.\n",
    "\n",
    "G = []\n",
    "print(\"Digite os elementos da matriz G (5x5):\")\n",
    "for i in range(5):\n",
    "    while True:\n",
    "        linha = list(map(int, input(f\"Digite os 5 elementos da linha {i+1} de G (separados por espaço): \").split()))\n",
    "        if len(linha) == 5:\n",
    "            G.append(linha)\n",
    "            break\n",
    "        else:\n",
    "            print(\"Erro! Por favor, insira exatamente 5 elementos.\")\n",
    "\n",
    "# Vetores soma das linhas e soma das colunas\n",
    "SL = [sum(linha) for linha in G]\n",
    "SC = [sum(G[i][j] for i in range(5)) for j in range(5)]\n",
    "\n",
    "print(f\"Vetor SL (soma das linhas): {SL}\")\n",
    "print(f\"Vetor SC (soma das colunas): {SC}\")"
   ]
  },
  {
   "cell_type": "code",
   "execution_count": 2,
   "id": "53129638-baae-4c47-b55c-e09fe8026068",
   "metadata": {},
   "outputs": [
    {
     "name": "stdout",
     "output_type": "stream",
     "text": [
      "Digite os elementos da matriz A (12x13):\n",
      "Matriz A modificada:\n",
      "[0.07692307692307693, 0.15384615384615385, 0.23076923076923078, 0.3076923076923077, 0.38461538461538464, 0.46153846153846156, 0.5384615384615384, 0.6153846153846154, 0.6923076923076923, 0.7692307692307693, 0.8461538461538461, 0.9230769230769231, 1.0]\n",
      "[1.0, 1.0, 1.0, 1.0, 1.0, 1.0, 1.0, 1.0, 1.0, 1.0, 1.0, 1.0, 1.0]\n",
      "[1.0, 1.0, 1.0, 1.0, 1.0, 1.0, 1.0, 1.0, 1.0, 1.0, 1.0, 1.0, 1.0]\n",
      "[1.0, 1.0, 1.0, 1.0, 1.0, 1.0, 1.0, 1.0, 1.0, 1.0, 1.0, 1.0, 1.0]\n",
      "[0.07692307692307693, 0.15384615384615385, 0.23076923076923078, 0.3076923076923077, 0.38461538461538464, 0.46153846153846156, 0.5384615384615384, 0.6153846153846154, 0.6923076923076923, 0.7692307692307693, 0.8461538461538461, 0.9230769230769231, 1.0]\n",
      "[0.07692307692307693, 0.15384615384615385, 0.23076923076923078, 0.3076923076923077, 0.38461538461538464, 0.46153846153846156, 0.5384615384615384, 0.6153846153846154, 0.6923076923076923, 0.7692307692307693, 0.8461538461538461, 0.9230769230769231, 1.0]\n",
      "[0.6363636363636364, 0.6666666666666666, 0.696969696969697, 0.7272727272727273, 0.7575757575757576, 0.7878787878787878, 0.8181818181818182, 0.8484848484848485, 0.8787878787878788, 0.9090909090909091, 0.9393939393939394, 0.9696969696969697, 1.0]\n",
      "[0.7735849056603774, 0.7924528301886793, 0.8113207547169812, 0.8301886792452831, 0.8490566037735849, 0.8679245283018868, 0.8867924528301887, 0.9056603773584906, 0.9245283018867925, 0.9433962264150944, 0.9622641509433962, 0.9811320754716981, 1.0]\n",
      "[0.8356164383561644, 0.8493150684931506, 0.863013698630137, 0.8767123287671232, 0.8904109589041096, 0.9041095890410958, 0.9178082191780822, 0.9315068493150684, 0.9452054794520548, 0.958904109589041, 0.9726027397260274, 0.9863013698630136, 1.0]\n",
      "[0.8709677419354839, 0.8817204301075269, 0.8924731182795699, 0.9032258064516129, 0.9139784946236559, 0.9247311827956989, 0.9354838709677419, 0.946236559139785, 0.956989247311828, 0.967741935483871, 0.978494623655914, 0.989247311827957, 1.0]\n",
      "[0.07692307692307693, 0.15384615384615385, 0.23076923076923078, 0.3076923076923077, 0.38461538461538464, 0.46153846153846156, 0.5384615384615384, 0.6153846153846154, 0.6923076923076923, 0.7692307692307693, 0.8461538461538461, 0.9230769230769231, 1.0]\n",
      "[0.07692307692307693, 0.15384615384615385, 0.23076923076923078, 0.3076923076923077, 0.38461538461538464, 0.46153846153846156, 0.5384615384615384, 0.6153846153846154, 0.6923076923076923, 0.7692307692307693, 0.8461538461538461, 0.9230769230769231, 1.0]\n"
     ]
    }
   ],
   "source": [
    "# 36. Ler uma matriz A 12 x 13 e divida todos os 13 elementos de cada uma das 12 linhas de A pelo valor do maior elemento daquela linha.\n",
    "# Escrever a matriz A modificada.\n",
    "\n",
    "A = []\n",
    "print(\"Digite os elementos da matriz A (12x13):\")\n",
    "for i in range(12):\n",
    "    while True:\n",
    "        linha = list(map(int, input(f\"Digite os 13 elementos da linha {i+1} de A (separados por espaço): \").split()))\n",
    "        if len(linha) == 13:\n",
    "            A.append(linha)\n",
    "            break\n",
    "        else:\n",
    "            print(\"Erro! Por favor, insira exatamente 13 elementos.\")\n",
    "\n",
    "# Dividir os elementos de cada linha pelo maior valor da linha\n",
    "for i in range(12):\n",
    "    maior = max(A[i])\n",
    "    if maior != 0: \n",
    "        A[i] = [elemento / maior for elemento in A[i]]\n",
    "\n",
    "print(\"Matriz A modificada:\")\n",
    "for linha in A:\n",
    "    print(linha)"
   ]
  },
  {
   "cell_type": "code",
   "execution_count": null,
   "id": "e8ff2cd9-e594-4c79-a2ea-928047d6f014",
   "metadata": {},
   "outputs": [
    {
     "name": "stdout",
     "output_type": "stream",
     "text": [
      "Digite os 13 elementos do vetor G que representam o gabarito da loteria esportiva:\n",
      "\n",
      "Vetor G (gabarito da loteria esportiva):\n",
      "[1, 2, 1, 3, 2, 1, 2, 1, 1, 3, 2, 2, 2]\n"
     ]
    }
   ],
   "source": [
    "# # 37. Ler um vetor G de 13 elementos que contenha o gabarito da loteria esportiva codificado da seguinte forma:\n",
    "# # 1-coluna um, 2-coluna do meio, 3-coluna dois.\n",
    "\n",
    "# DIGITE UM VALOR DE CADA VEZ ENTRE 1 - 3\n",
    "\n",
    "def main():\n",
    "    G = []\n",
    "\n",
    "    print(\"Digite os 13 elementos do vetor G que representam o gabarito da loteria esportiva:\")\n",
    "    for i in range(13):\n",
    "        valor = int(input(f\"Digite o valor para o elemento {i+1}: \"))\n",
    "        while valor not in [1, 2, 3]:\n",
    "            print(\"Valor inválido. Digite apenas 1, 2 ou 3.\")\n",
    "            valor = int(input(f\"Digite o valor para o elemento {i+1}: \"))\n",
    "        G.append(valor)\n",
    "\n",
    "    print(\"\\nVetor G (gabarito da loteria esportiva):\")\n",
    "    print(G)\n",
    "\n",
    "if __name__ == \"__main__\":\n",
    "    main()"
   ]
  },
  {
   "cell_type": "code",
   "execution_count": null,
   "id": "a5116e8a-b3d9-4bb5-87d8-1d6557244053",
   "metadata": {},
   "outputs": [
    {
     "name": "stdout",
     "output_type": "stream",
     "text": [
      "Digite os 13 elementos do vetor G (gabarito da loteria esportiva):\n",
      "Valor inválido. Digite apenas 1, 2 ou 3.\n",
      "\n",
      "Digite a matriz 13x3 representando as apostas do jogador (1 para apostado, 0 caso contrário):\n",
      "\n",
      "Número de pontos obtidos: 6\n",
      "Número de apostas simples: 2\n",
      "Número de apostas duplas: 6\n",
      "Número de apostas triplas: 3\n"
     ]
    }
   ],
   "source": [
    "# 38. Logo após, ler uma matriz 13 x 3 que contenha a aposta de um jogador. Considere que cada posição da matriz armazenará o valor 1 se for apostado, 0 caso contrário. Calcular\n",
    "# e escrever o número de pontos obtidos pelo jogador.\n",
    "\n",
    "# DIGITE UM VALOR DE CADA VEZ\n",
    "\n",
    "def main():\n",
    "    G = []\n",
    "    print(\"Digite os 13 elementos do vetor G (gabarito da loteria esportiva):\")\n",
    "    for i in range(13):\n",
    "        valor = int(input(f\"Digite o valor para o elemento {i+1}: \"))\n",
    "        while valor not in [1, 2, 3]:\n",
    "            print(\"Valor inválido. Digite apenas 1, 2 ou 3.\")\n",
    "            valor = int(input(f\"Digite o valor para o elemento {i+1}: \"))\n",
    "        G.append(valor)\n",
    "    \n",
    "    A = []\n",
    "    print(\"\\nDigite a matriz 13x3 representando as apostas do jogador (1 para apostado, 0 caso contrário):\")\n",
    "    for i in range(13):\n",
    "        linha = list(map(int, input(f\"Digite os 3 elementos da linha {i+1} (separados por espaço): \").split()))\n",
    "        while len(linha) != 3 or any(x not in [0, 1] for x in linha):\n",
    "            print(\"Entrada inválida. Digite 3 números (0 ou 1) para cada linha.\")\n",
    "            linha = list(map(int, input(f\"Digite os 3 elementos da linha {i+1} (separados por espaço): \").split()))\n",
    "        A.append(linha)\n",
    "    \n",
    "    pontos = 0\n",
    "    for i in range(13):\n",
    "        for j in range(3):\n",
    "            if G[i] == j + 1 and A[i][j] == 1:\n",
    "                pontos += 1\n",
    "    \n",
    "    simples = 0\n",
    "    dupla = 0\n",
    "    tripla = 0\n",
    "    for i in range(13):\n",
    "        apostas = sum(A[i])\n",
    "        if apostas == 1:\n",
    "            simples += 1\n",
    "        elif apostas == 2:\n",
    "            dupla += 1\n",
    "        elif apostas == 3:\n",
    "            \n",
    "            tripla += 1\n",
    "    \n",
    "    print(f\"\\nNúmero de pontos obtidos: {pontos}\")\n",
    "    print(f\"Número de apostas simples: {simples}\")\n",
    "    print(f\"Número de apostas duplas: {dupla}\")\n",
    "    print(f\"Número de apostas triplas: {tripla}\")\n",
    "\n",
    "if __name__ == \"__main__\":\n",
    "    main()"
   ]
  },
  {
   "cell_type": "markdown",
   "id": "d887c591",
   "metadata": {},
   "source": [
    "Lista de Exercícios de Funções"
   ]
  },
  {
   "cell_type": "code",
   "execution_count": 2,
   "id": "2eec90eb",
   "metadata": {},
   "outputs": [
    {
     "name": "stdout",
     "output_type": "stream",
     "text": [
      "Bem-vindo à calculadora!\n",
      "\n",
      "Escolha a operação que deseja realizar:\n",
      "1 - Soma\n",
      "2 - Subtração\n",
      "3 - Multiplicação\n",
      "4 - Divisão\n",
      "O resultado da soma é: 30.0\n"
     ]
    }
   ],
   "source": [
    "# 39. Crie uma rotina de calculadora, onde receba dois valores e indique e receba qual operação básica deseja calcular, em seguida apresente o resultado. Todo o cálculo\n",
    "# deve ser feito com uso de funções.\n",
    "\n",
    "# Funções para as operações básicas\n",
    "def soma(a, b):\n",
    "    return a + b\n",
    "\n",
    "def subtracao(a, b):\n",
    "    return a - b\n",
    "\n",
    "def multiplicacao(a, b):\n",
    "    return a * b\n",
    "\n",
    "def divisao(a, b):\n",
    "    if b != 0:\n",
    "        return a / b\n",
    "    else:\n",
    "        return \"Erro! Divisão por zero.\"\n",
    "\n",
    "# Função principal\n",
    "def calculadora():\n",
    "    print(\"Bem-vindo à calculadora!\")\n",
    "    \n",
    "    try:\n",
    "        num1 = float(input(\"Digite o primeiro valor: \"))\n",
    "        num2 = float(input(\"Digite o segundo valor: \"))\n",
    "    except ValueError:\n",
    "        print(\"Por favor, insira valores válidos.\")\n",
    "        return\n",
    "    \n",
    "    print(\"\\nEscolha a operação que deseja realizar:\")\n",
    "    print(\"1 - Soma\")\n",
    "    print(\"2 - Subtração\")\n",
    "    print(\"3 - Multiplicação\")\n",
    "    print(\"4 - Divisão\")\n",
    "    \n",
    "    operacao = input(\"Digite o número da operação desejada (1/2/3/4): \")\n",
    "    \n",
    "    if operacao == \"1\":\n",
    "        resultado = soma(num1, num2)\n",
    "        print(f\"O resultado da soma é: {resultado}\")\n",
    "    elif operacao == \"2\":\n",
    "        resultado = subtracao(num1, num2)\n",
    "        print(f\"O resultado da subtração é: {resultado}\")\n",
    "    elif operacao == \"3\":\n",
    "        resultado = multiplicacao(num1, num2)\n",
    "        print(f\"O resultado da multiplicação é: {resultado}\")\n",
    "    elif operacao == \"4\":\n",
    "        resultado = divisao(num1, num2)\n",
    "        print(f\"O resultado da divisão é: {resultado}\")\n",
    "    else:\n",
    "        print(\"Opção inválida! Tente novamente.\")\n",
    "        \n",
    "calculadora()"
   ]
  },
  {
   "cell_type": "code",
   "execution_count": 3,
   "id": "457955ce",
   "metadata": {},
   "outputs": [
    {
     "name": "stdout",
     "output_type": "stream",
     "text": [
      "Bem-vindo à calculadora!\n",
      "\n",
      "Escolha a operação que deseja realizar:\n",
      "1 - Soma\n",
      "2 - Subtração\n",
      "3 - Multiplicação\n",
      "4 - Divisão\n",
      "O resultado da soma é: 12.0\n"
     ]
    }
   ],
   "source": [
    "## 40. Refaça a lógica anterior, porém para a multiplicação deve ser feita utilizando seguidas somas.\n",
    "\n",
    "def soma(a, b):\n",
    "    return a + b\n",
    "\n",
    "def subtracao(a, b):\n",
    "    return a - b\n",
    "\n",
    "def divisao(a, b):\n",
    "    if b != 0:\n",
    "        return a / b\n",
    "    else:\n",
    "        return \"Erro! Divisão por zero.\"\n",
    "\n",
    "# Função de multiplicação utilizando soma\n",
    "def multiplicacao(a, b):\n",
    "    resultado = 0\n",
    "    for _ in range(abs(int(b))):  # Itera o número b vezes\n",
    "        resultado = soma(resultado, a)\n",
    "    \n",
    "    if b < 0:\n",
    "        resultado = -resultado\n",
    "    \n",
    "    return resultado\n",
    "\n",
    "def calculadora():\n",
    "    print(\"Bem-vindo à calculadora!\")\n",
    "    \n",
    "    # Recebendo os valores\n",
    "    try:\n",
    "        num1 = float(input(\"Digite o primeiro valor: \"))\n",
    "        num2 = float(input(\"Digite o segundo valor: \"))\n",
    "    except ValueError:\n",
    "        print(\"Por favor, insira valores válidos.\")\n",
    "        return\n",
    "    \n",
    "    print(\"\\nEscolha a operação que deseja realizar:\")\n",
    "    print(\"1 - Soma\")\n",
    "    print(\"2 - Subtração\")\n",
    "    print(\"3 - Multiplicação\")\n",
    "    print(\"4 - Divisão\")\n",
    "    \n",
    "    operacao = input(\"Digite o número da operação desejada (1/2/3/4): \")\n",
    "    \n",
    "    if operacao == \"1\":\n",
    "        resultado = soma(num1, num2)\n",
    "        print(f\"O resultado da soma é: {resultado}\")\n",
    "    elif operacao == \"2\":\n",
    "        resultado = subtracao(num1, num2)\n",
    "        print(f\"O resultado da subtração é: {resultado}\")\n",
    "    elif operacao == \"3\":\n",
    "        resultado = multiplicacao(num1, num2)\n",
    "        print(f\"O resultado da multiplicação é: {resultado}\")\n",
    "    elif operacao == \"4\":\n",
    "        resultado = divisao(num1, num2)\n",
    "        print(f\"O resultado da divisão é: {resultado}\")\n",
    "    else:\n",
    "        print(\"Opção inválida! Tente novamente.\")\n",
    "\n",
    "calculadora()\n"
   ]
  },
  {
   "cell_type": "code",
   "execution_count": 4,
   "id": "d8e7e25f",
   "metadata": {},
   "outputs": [
    {
     "name": "stdout",
     "output_type": "stream",
     "text": [
      "A velocidade média é 1.00 metros por segundo.\n"
     ]
    }
   ],
   "source": [
    "# 41. Defina uma função chamada velocidade_media() em um script que recebe dois parâmetros: a distância percorrida (em metros) e o tempo (em segundos) gasto.\n",
    "\n",
    "# Função para calcular a velocidade média\n",
    "def velocidade_media(distancia, tempo):\n",
    "    if tempo > 0:  # Verifica se o tempo é maior que zero para evitar divisão por zero\n",
    "        velocidade = distancia / tempo\n",
    "        return velocidade\n",
    "    else:\n",
    "        return \"O tempo não pode ser zero ou negativo.\"\n",
    "\n",
    "distancia = float(input(\"Digite a distância percorrida (em metros): \"))\n",
    "tempo = float(input(\"Digite o tempo gasto (em segundos): \"))\n",
    "\n",
    "velocidade = velocidade_media(distancia, tempo)\n",
    "\n",
    "if isinstance(velocidade, str):\n",
    "    print(velocidade)\n",
    "else:\n",
    "    print(f\"A velocidade média é {velocidade:.2f} metros por segundo.\")\n"
   ]
  },
  {
   "cell_type": "code",
   "execution_count": 5,
   "id": "3ab7f388",
   "metadata": {},
   "outputs": [
    {
     "name": "stdout",
     "output_type": "stream",
     "text": [
      "A velocidade média é 5.00 metros por segundo.\n"
     ]
    }
   ],
   "source": [
    "# 42. Utilizando a lógica anterior modifique a função velocidade_media() utilizando uma função divisao() para calcular a velocidade. A função divisao() recebe dois números\n",
    "# como parâmetros, calcula e retorna o resultado da divisão do primeiro pelo segundo.\n",
    "\n",
    "def divisao(a, b):\n",
    "    if b != 0:  # Verifica se o divisor não é zero\n",
    "        return a / b\n",
    "    else:\n",
    "        return \"Erro! Divisão por zero.\"\n",
    "\n",
    "def velocidade_media(distancia, tempo):\n",
    "    if tempo > 0:  # Verifica se o tempo é maior que zero\n",
    "        return divisao(distancia, tempo)\n",
    "    else:\n",
    "        return \"O tempo não pode ser zero ou negativo.\"\n",
    "\n",
    "distancia = float(input(\"Digite a distância percorrida (em metros): \"))\n",
    "tempo = float(input(\"Digite o tempo gasto (em segundos): \"))\n",
    "\n",
    "velocidade = velocidade_media(distancia, tempo)\n",
    "\n",
    "if isinstance(velocidade, str):  # Se a função retornar uma mensagem de erro\n",
    "    print(velocidade)\n",
    "else:\n",
    "    print(f\"A velocidade média é {velocidade:.2f} metros por segundo.\")"
   ]
  },
  {
   "cell_type": "code",
   "execution_count": 8,
   "id": "aa777c1e",
   "metadata": {},
   "outputs": [
    {
     "name": "stdout",
     "output_type": "stream",
     "text": [
      "Ordem crescente: 239\n",
      "Ordem decrescente: 932\n",
      "Ordem reversa: 392\n"
     ]
    }
   ],
   "source": [
    "# 43. Organiza número. Faça uma rotina que organize os números recebidos em: crescente, decrescente e reverso.\n",
    "\n",
    "def organiza_digitos(numero):\n",
    "    digitos = list(str(numero))\n",
    "\n",
    "    # Ordem crescente\n",
    "    crescente = ''.join(sorted(digitos))  # Ordena os dígitos em ordem crescente\n",
    "\n",
    "    # Ordem decrescente\n",
    "    decrescente = ''.join(sorted(digitos, reverse=True))  # Ordena os dígitos em ordem decrescente\n",
    "\n",
    "    # Ordem reversa (reverte a ordem original dos dígitos)\n",
    "    reverso = ''.join(digitos[::-1])\n",
    "    \n",
    "    return crescente, decrescente, reverso\n",
    "\n",
    "numero = int(input(\"Digite o número: \"))\n",
    "\n",
    "crescente, decrescente, reverso = organiza_digitos(numero)\n",
    "\n",
    "print(f\"Ordem crescente: {crescente}\")\n",
    "print(f\"Ordem decrescente: {decrescente}\")\n",
    "print(f\"Ordem reversa: {reverso}\")\n"
   ]
  },
  {
   "cell_type": "code",
   "execution_count": 9,
   "id": "1280ea28",
   "metadata": {},
   "outputs": [
    {
     "name": "stdout",
     "output_type": "stream",
     "text": [
      "12:40 P.M.\n",
      "10:10 P.M.\n"
     ]
    },
    {
     "ename": "",
     "evalue": "",
     "output_type": "error",
     "traceback": [
      "\u001b[1;31mThe Kernel crashed while executing code in the current cell or a previous cell. \n",
      "\u001b[1;31mPlease review the code in the cell(s) to identify a possible cause of the failure. \n",
      "\u001b[1;31mClick <a href='https://aka.ms/vscodeJupyterKernelCrash'>here</a> for more info. \n",
      "\u001b[1;31mView Jupyter <a href='command:jupyter.viewOutput'>log</a> for further details."
     ]
    }
   ],
   "source": [
    "# 44. Faça um programa que converta da notação de 24 horas para a notação de 12 horas. Por exemplo, o programa deve converter 14:25 em 2:25 P.M.\n",
    "\n",
    "# Função para converter de 24 horas para 12 horas\n",
    "def converter_24_para_12(hora_24, minuto):\n",
    "    if hora_24 == 0:\n",
    "        hora_12 = 12\n",
    "        am_pm = 'A'\n",
    "    elif hora_24 == 12:\n",
    "        hora_12 = 12\n",
    "        am_pm = 'P'\n",
    "    elif hora_24 > 12:\n",
    "        hora_12 = hora_24 - 12\n",
    "        am_pm = 'P'\n",
    "    else:\n",
    "        hora_12 = hora_24\n",
    "        am_pm = 'A'\n",
    "    \n",
    "    return hora_12, minuto, am_pm\n",
    "\n",
    "def exibir_hora_convertida(hora_12, minuto, am_pm):\n",
    "    print(f\"{hora_12}:{minuto:02d} {'A.M.' if am_pm == 'A' else 'P.M.'}\")\n",
    "\n",
    "# Loop principal para permitir múltiplas conversões\n",
    "while True:\n",
    "    # Entrada de hora e minuto em formato 24 horas\n",
    "    try:\n",
    "        hora_24 = int(input(\"Digite a hora em formato 24 horas (0-23): \"))\n",
    "        minuto = int(input(\"Digite os minutos (0-59): \"))\n",
    "        \n",
    "        if hora_24 < 0 or hora_24 > 23 or minuto < 0 or minuto > 59:\n",
    "            print(\"Hora ou minuto inválido. Tente novamente.\")\n",
    "            continue\n",
    "        \n",
    "    except ValueError:\n",
    "        print(\"Por favor, insira números válidos.\")\n",
    "        continue\n",
    "\n",
    "    hora_12, minuto_convertido, am_pm = converter_24_para_12(hora_24, minuto)\n",
    "\n",
    "    exibir_hora_convertida(hora_12, minuto_convertido, am_pm)\n",
    "\n",
    "    repetir = input(\"Deseja realizar outra conversão? (S/N): \").strip().lower()\n",
    "    if repetir != 's':\n",
    "        print(\"Fim do programa.\")\n",
    "        break"
   ]
  },
  {
   "cell_type": "code",
   "execution_count": 3,
   "id": "d84c7d64",
   "metadata": {},
   "outputs": [
    {
     "name": "stdout",
     "output_type": "stream",
     "text": [
      "10 de abril de 2000\n"
     ]
    }
   ],
   "source": [
    "# 45. Data com mês por extenso. Construa uma função que receba uma data no formato DD/MM/AAAA e devolva uma string no formato D de mesPorExtenso de AAAA.\n",
    "\n",
    "def data_por_extenso(data):\n",
    "\n",
    "    meses = [ \"janeiro\", \"fevereiro\", \"março\", \"abril\", \"maio\", \"junho\",\n",
    "        \"julho\", \"agosto\", \"setembro\", \"outubro\", \"novembro\", \"dezembro\" ]\n",
    "    \n",
    "    dia, mes, ano = data.split('/')\n",
    "\n",
    "    mes_por_extenso = meses[int(mes) - 1]\n",
    "\n",
    "    return f\"{int(dia)} de {mes_por_extenso} de {ano}\"\n",
    "\n",
    "data = input(\"Digite a data no formato DD/MM/AAAA: \")\n",
    "data_formatada = data_por_extenso(data)\n",
    "print(data_formatada)"
   ]
  }
 ],
 "metadata": {
  "kernelspec": {
   "display_name": "base",
   "language": "python",
   "name": "python3"
  },
  "language_info": {
   "codemirror_mode": {
    "name": "ipython",
    "version": 3
   },
   "file_extension": ".py",
   "mimetype": "text/x-python",
   "name": "python",
   "nbconvert_exporter": "python",
   "pygments_lexer": "ipython3",
   "version": "3.12.7"
  }
 },
 "nbformat": 4,
 "nbformat_minor": 5
}
